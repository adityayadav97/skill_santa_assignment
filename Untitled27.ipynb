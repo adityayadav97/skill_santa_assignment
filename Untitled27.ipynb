{
  "nbformat": 4,
  "nbformat_minor": 0,
  "metadata": {
    "colab": {
      "name": "Untitled27.ipynb",
      "provenance": [],
      "collapsed_sections": [],
      "authorship_tag": "ABX9TyM4QZHbrfTR+D62ePKMvNd4",
      "include_colab_link": true
    },
    "kernelspec": {
      "name": "python3",
      "display_name": "Python 3"
    }
  },
  "cells": [
    {
      "cell_type": "markdown",
      "metadata": {
        "id": "view-in-github",
        "colab_type": "text"
      },
      "source": [
        "<a href=\"https://colab.research.google.com/github/namrata123456789/skill_santa_assignment/blob/main/Untitled27.ipynb\" target=\"_parent\"><img src=\"https://colab.research.google.com/assets/colab-badge.svg\" alt=\"Open In Colab\"/></a>"
      ]
    },
    {
      "cell_type": "code",
      "metadata": {
        "id": "dyYDf_NMf1bM",
        "outputId": "ef713ff0-c296-41d8-cc38-179d7ae3b44b",
        "colab": {
          "base_uri": "https://localhost:8080/"
        }
      },
      "source": [
        "#printing the maximum value of the list\n",
        "list1=[10,20,90,8000]\n",
        "print(max(list1))"
      ],
      "execution_count": null,
      "outputs": [
        {
          "output_type": "stream",
          "text": [
            "8000\n"
          ],
          "name": "stdout"
        }
      ]
    },
    {
      "cell_type": "code",
      "metadata": {
        "id": "UiCCweiwf3WA",
        "outputId": "7a865def-5652-4112-a80a-df4d796ae6f9",
        "colab": {
          "base_uri": "https://localhost:8080/"
        }
      },
      "source": [
        "#printing the Second Largest element of the list\n",
        "list=[12,42,53,233,8332]\n",
        "list.sort()\n",
        "print(\"second largest element is \" , list[-2])"
      ],
      "execution_count": null,
      "outputs": [
        {
          "output_type": "stream",
          "text": [
            "second largest element is  233\n"
          ],
          "name": "stdout"
        }
      ]
    },
    {
      "cell_type": "code",
      "metadata": {
        "id": "tTxE2g2hh3RY",
        "outputId": "581c9914-e427-4054-9e35-8432337a68c8",
        "colab": {
          "base_uri": "https://localhost:8080/"
        }
      },
      "source": [
        "# Swap the first and last element of a list\n",
        "list= [1,32,33,42,484,933]\n",
        "def swaplist(list1):\n",
        "    first= list.pop(0)\n",
        "    last= list.pop(-1)\n",
        "    list.insert(0,last)\n",
        "    list.append(first)\n",
        "    return list\n",
        "print(swaplist(list))\n"
      ],
      "execution_count": null,
      "outputs": [
        {
          "output_type": "stream",
          "text": [
            "[933, 32, 33, 42, 484, 1]\n"
          ],
          "name": "stdout"
        }
      ]
    },
    {
      "cell_type": "code",
      "metadata": {
        "id": "Enemdxw3iprB",
        "outputId": "f84da3cb-8805-4057-c5e0-d34aa6266967",
        "colab": {
          "base_uri": "https://localhost:8080/"
        }
      },
      "source": [
        "# sort the  two list \n",
        "list1= [23,43,54,75]\n",
        "list2= [95,37,85,567]\n",
        "list3= list1 + list2\n",
        "list3.sort()\n",
        "print(list3)"
      ],
      "execution_count": null,
      "outputs": [
        {
          "output_type": "stream",
          "text": [
            "[23, 37, 43, 54, 75, 85, 95, 567]\n"
          ],
          "name": "stdout"
        }
      ]
    },
    {
      "cell_type": "code",
      "metadata": {
        "id": "Bc1a4TniiyGE"
      },
      "source": [
        ""
      ],
      "execution_count": null,
      "outputs": []
    }
  ]
}